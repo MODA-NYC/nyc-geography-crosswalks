{
  "nbformat": 4,
  "nbformat_minor": 0,
  "metadata": {
    "colab": {
      "provenance": [],
      "authorship_tag": "ABX9TyPwVud3pA0vUinep0w9el4L",
      "include_colab_link": true
    },
    "kernelspec": {
      "name": "python3",
      "display_name": "Python 3"
    },
    "language_info": {
      "name": "python"
    }
  },
  "cells": [
    {
      "cell_type": "markdown",
      "metadata": {
        "id": "view-in-github",
        "colab_type": "text"
      },
      "source": [
        "<a href=\"https://colab.research.google.com/github/MODA-NYC/nyc-geography-crosswalks/blob/main/NYC_Geographies_Generate_All_Wide_Crosswalks.ipynb\" target=\"_parent\"><img src=\"https://colab.research.google.com/assets/colab-badge.svg\" alt=\"Open In Colab\"/></a>"
      ]
    },
    {
      "cell_type": "markdown",
      "source": [
        "# NYC Geographies: Generate All Wide Crosswalks\n",
        "\n",
        "This notebook generates a complete set of wide crosswalk tables for various geographic boundaries in New York City using the BetaNYC `all_bounds.geojson` dataset.\n",
        "\n",
        "### What this notebook does:\n",
        "- **Spatial intersections:** Computes overlaps among NYC geographic boundaries using GeoPandas.\n",
        "- **Negative Buffering:** Applies a negative buffer to each geography to ensure meaningful overlaps and exclude trivial or touching geometries.\n",
        "- **Wide Crosswalk Tables:** Produces one CSV file per geographic boundary (e.g., Community Districts, ZIP codes, NTAs, BIDs), each structured as a wide table where:\n",
        "  - Each **row** represents a specific geographic feature.\n",
        "  - Each **column** shows overlapping features from other geography types (semicolon-separated).\n",
        "- **Automated Outputs:** All generated CSV files are zipped into a single downloadable archive.\n",
        "\n",
        "### Data Source:\n",
        "- [BetaNYC nyc-boundaries GeoJSON](https://github.com/BetaNYC/nyc-boundaries)\n",
        "\n",
        "### Requirements:\n",
        "- Python libraries: `geopandas`, `requests`, `pandas`\n",
        "- Environment: Google Colab recommended for ease of use.\n",
        "\n",
        "### Output:\n",
        "- **ZIP file**: `all_geographies_crosswalks.zip` containing individual CSVs for each geography type.\n",
        "\n",
        "---"
      ],
      "metadata": {
        "id": "eTzgStBoAqbv"
      }
    },
    {
      "cell_type": "code",
      "source": [
        "# Install required libraries\n",
        "!pip install geopandas requests --quiet\n",
        "\n",
        "import geopandas as gpd\n",
        "import pandas as pd\n",
        "import requests\n",
        "from io import BytesIO\n",
        "from google.colab import files\n",
        "import zipfile\n",
        "import os\n",
        "\n",
        "# Configuration\n",
        "BUFFER_FEET = -200\n",
        "MIN_INTERSECTION_AREA = 400\n",
        "\n",
        "# Geography IDs list\n",
        "geography_ids = ['pp', 'fb', 'sd', 'bid', 'ibz', 'cd', 'dsny', 'hc',\n",
        "                 'cc_upcoming', 'cc', 'nycongress', 'sa', 'ss', 'nta', 'zipcode', 'hd']\n",
        "\n",
        "# Download GeoJSON\n",
        "geojson_url = \"https://raw.githubusercontent.com/BetaNYC/nyc-boundaries/main/script/all_bounds.geojson\"\n",
        "response = requests.get(geojson_url)\n",
        "response.raise_for_status()\n",
        "gdf = gpd.read_file(BytesIO(response.content)).to_crs(epsg=2263)\n",
        "\n",
        "# Spatial index for efficiency\n",
        "spatial_index = gdf.sindex\n",
        "\n",
        "# Temporary folder to store CSVs\n",
        "output_folder = 'geography_crosswalks'\n",
        "os.makedirs(output_folder, exist_ok=True)\n",
        "\n",
        "csv_files = []\n",
        "\n",
        "for primary_geo in geography_ids:\n",
        "    primary_gdf = gdf[gdf['id'] == primary_geo].copy()\n",
        "    if primary_gdf.empty:\n",
        "        continue\n",
        "\n",
        "    records = []\n",
        "\n",
        "    for _, primary_row in primary_gdf.iterrows():\n",
        "        primary_name = primary_row['nameCol']\n",
        "        primary_geom_buffered = primary_row.geometry.buffer(BUFFER_FEET)\n",
        "\n",
        "        candidate_idx = list(spatial_index.intersection(primary_geom_buffered.bounds))\n",
        "        candidate_features = gdf.iloc[candidate_idx]\n",
        "\n",
        "        # Initial intersection filter\n",
        "        candidates = candidate_features[candidate_features.intersects(primary_geom_buffered)].copy()\n",
        "        if candidates.empty:\n",
        "            final_candidates = candidates\n",
        "        else:\n",
        "            candidates['intersection_area'] = candidates.geometry.intersection(primary_geom_buffered).area\n",
        "            final_candidates = candidates[candidates['intersection_area'] > MIN_INTERSECTION_AREA]\n",
        "\n",
        "        record = {primary_geo: primary_name}\n",
        "\n",
        "        for secondary_geo in geography_ids:\n",
        "            if secondary_geo == primary_geo:\n",
        "                continue  # skip self-intersection\n",
        "            subset = final_candidates[final_candidates['id'] == secondary_geo]\n",
        "            record[secondary_geo] = \";\".join(subset['nameCol'].unique()) if not subset.empty else \"\"\n",
        "\n",
        "        records.append(record)\n",
        "\n",
        "    df = pd.DataFrame(records)\n",
        "    csv_filename = f\"{output_folder}/{primary_geo}_wide_crosswalk.csv\"\n",
        "    df.to_csv(csv_filename, index=False)\n",
        "    csv_files.append(csv_filename)\n",
        "\n",
        "# Zip and download the files\n",
        "zip_filename = \"all_geographies_wide_crosswalks.zip\"\n",
        "with zipfile.ZipFile(zip_filename, 'w') as zipf:\n",
        "    for file in csv_files:\n",
        "        zipf.write(file, arcname=os.path.basename(file))\n",
        "\n",
        "files.download(zip_filename)\n"
      ],
      "metadata": {
        "colab": {
          "base_uri": "https://localhost:8080/",
          "height": 17
        },
        "id": "1GEp_M5oA70T",
        "outputId": "e5f7ccf5-1b42-460a-fc9e-152be8734b0b"
      },
      "execution_count": null,
      "outputs": [
        {
          "output_type": "display_data",
          "data": {
            "text/plain": [
              "<IPython.core.display.Javascript object>"
            ],
            "application/javascript": [
              "\n",
              "    async function download(id, filename, size) {\n",
              "      if (!google.colab.kernel.accessAllowed) {\n",
              "        return;\n",
              "      }\n",
              "      const div = document.createElement('div');\n",
              "      const label = document.createElement('label');\n",
              "      label.textContent = `Downloading \"${filename}\": `;\n",
              "      div.appendChild(label);\n",
              "      const progress = document.createElement('progress');\n",
              "      progress.max = size;\n",
              "      div.appendChild(progress);\n",
              "      document.body.appendChild(div);\n",
              "\n",
              "      const buffers = [];\n",
              "      let downloaded = 0;\n",
              "\n",
              "      const channel = await google.colab.kernel.comms.open(id);\n",
              "      // Send a message to notify the kernel that we're ready.\n",
              "      channel.send({})\n",
              "\n",
              "      for await (const message of channel.messages) {\n",
              "        // Send a message to notify the kernel that we're ready.\n",
              "        channel.send({})\n",
              "        if (message.buffers) {\n",
              "          for (const buffer of message.buffers) {\n",
              "            buffers.push(buffer);\n",
              "            downloaded += buffer.byteLength;\n",
              "            progress.value = downloaded;\n",
              "          }\n",
              "        }\n",
              "      }\n",
              "      const blob = new Blob(buffers, {type: 'application/binary'});\n",
              "      const a = document.createElement('a');\n",
              "      a.href = window.URL.createObjectURL(blob);\n",
              "      a.download = filename;\n",
              "      div.appendChild(a);\n",
              "      a.click();\n",
              "      div.remove();\n",
              "    }\n",
              "  "
            ]
          },
          "metadata": {}
        },
        {
          "output_type": "display_data",
          "data": {
            "text/plain": [
              "<IPython.core.display.Javascript object>"
            ],
            "application/javascript": [
              "download(\"download_e704f9c2-03f4-437b-a000-8a2f5907776d\", \"all_geographies_wide_crosswalks.zip\", 360603)"
            ]
          },
          "metadata": {}
        }
      ]
    },
    {
      "cell_type": "code",
      "source": [],
      "metadata": {
        "id": "63PFo4foA8fe"
      },
      "execution_count": null,
      "outputs": []
    }
  ]
}